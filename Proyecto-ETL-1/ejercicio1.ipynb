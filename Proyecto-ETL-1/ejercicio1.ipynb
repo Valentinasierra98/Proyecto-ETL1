{
 "cells": [
  {
   "cell_type": "code",
   "execution_count": 1,
   "metadata": {},
   "outputs": [],
   "source": [
    "import pymssql\n",
    "import pandas as pd"
   ]
  },
  {
   "cell_type": "code",
   "execution_count": null,
   "metadata": {},
   "outputs": [],
   "source": [
    "#conexión con la BD\n",
    "conn = pymssql.connect(\n",
    "    server='127.0.0.1',\n",
    "    user='sa',\n",
    "    password='12345678',\n",
    "    database='master1',\n",
    "    as_dict= False\n",
    ")"
   ]
  },
  {
   "cell_type": "code",
   "execution_count": 7,
   "metadata": {},
   "outputs": [],
   "source": [
    "# Se crea el cursor para manejo de qwery\n",
    "cur = conn.cursor()"
   ]
  },
  {
   "cell_type": "code",
   "execution_count": 4,
   "metadata": {},
   "outputs": [
    {
     "name": "stdout",
     "output_type": "stream",
     "text": [
      "La base de datos 'etl_db' ya existe.\n"
     ]
    }
   ],
   "source": [
    "# Crear una nueva BD\n",
    "\n",
    "db_name = \"etl_db\"\n",
    "\n",
    "try:\n",
    "    # se verifica que no hayan transacciones de la bd que esten activas\n",
    "    cur.execute(\"IF @@TRANCOUNT > 0 ROLLBACK TRANSACTION\")\n",
    "\n",
    "    # Se consulta si la Bd existe\n",
    "    cur.execute(f\"SELECT name FROM sys.databases WHERE name = '{db_name}'\")\n",
    "    resultado = cur.fetchone()\n",
    "\n",
    "    if resultado:\n",
    "        print(f\"La base de datos '{db_name}' ya existe.\")\n",
    "    else:\n",
    "        cur.execute(f\"CREATE DATABASE {db_name}\")\n",
    "        print(f\"Base de datos '{db_name}' creada.\")\n",
    "\n",
    "except Exception as e:\n",
    "    print(f\"Error al verificar o crear la base de datos: {e}\")"
   ]
  },
  {
   "cell_type": "code",
   "execution_count": 8,
   "metadata": {},
   "outputs": [
    {
     "name": "stdout",
     "output_type": "stream",
     "text": [
      "La tabla 'tabla_etl' ya existe.\n"
     ]
    }
   ],
   "source": [
    "# crear tabla\n",
    "tb_name = \"tabla_etl\"\n",
    "\n",
    "try:\n",
    "    # Verificar si la tabla existe\n",
    "    cur.execute(f\"SELECT COUNT(*) FROM sys.tables WHERE name = '{tb_name}'\")\n",
    "    resultado = cur.fetchone()\n",
    "\n",
    "    if resultado[0] > 0:\n",
    "        print(f\"La tabla '{tb_name}' ya existe.\")\n",
    "    else:\n",
    "        cur.execute(f\"\"\"\n",
    "            CREATE TABLE {tb_name} (\n",
    "                id INT IDENTITY(1,1) PRIMARY KEY,\n",
    "                nombre VARCHAR(100) NOT NULL,\n",
    "                edad INT,\n",
    "                email VARCHAR(100),\n",
    "                fecha_registro DATETIME DEFAULT GETDATE()\n",
    "            )\n",
    "        \"\"\")\n",
    "        print(f\"Tabla '{tb_name}' creada exitosamente.\")\n",
    "\n",
    "    conn.commit() # confirmar los cambios\n",
    "except Exception as e:\n",
    "    print(f\"Error al verificar o crear la tabla: {e}\")\n",
    "    conn.rollback()"
   ]
  },
  {
   "cell_type": "code",
   "execution_count": 9,
   "metadata": {},
   "outputs": [],
   "source": [
    "# Insertar datos en la tabla\n",
    "\n",
    "sql = f\"INSERT INTO {tb_name} (nombre, edad, email) VALUES (%s, %s, %s)\"\n",
    "datos = [\n",
    "        ('Juan Pérez', 28, 'juan@example.com'),\n",
    "        ('María García', 34, 'maria@example.com'),\n",
    "        ('Carlos López', 25, 'carlos@example.com')\n",
    "    ]\n",
    "\n",
    "cur.executemany(sql, datos)"
   ]
  },
  {
   "cell_type": "code",
   "execution_count": 10,
   "metadata": {},
   "outputs": [
    {
     "name": "stdout",
     "output_type": "stream",
     "text": [
      "Datos en 'tabla_etl':\n",
      "(1, 'Juan Pérez', 28, 'juan@example.com', datetime.datetime(2025, 2, 24, 17, 47, 21, 167000))\n",
      "(2, 'María García', 34, 'maria@example.com', datetime.datetime(2025, 2, 24, 17, 47, 21, 170000))\n",
      "(3, 'Carlos López', 25, 'carlos@example.com', datetime.datetime(2025, 2, 24, 17, 47, 21, 170000))\n",
      "(4, 'Juan Pérez', 28, 'juan@example.com', datetime.datetime(2025, 2, 24, 17, 47, 53, 290000))\n",
      "(5, 'María García', 34, 'maria@example.com', datetime.datetime(2025, 2, 24, 17, 47, 53, 300000))\n",
      "(6, 'Carlos López', 25, 'carlos@example.com', datetime.datetime(2025, 2, 24, 17, 47, 53, 300000))\n",
      "(7, 'Juan Pérez', 28, 'juan@example.com', datetime.datetime(2025, 2, 25, 16, 13, 25, 850000))\n",
      "(8, 'María García', 34, 'maria@example.com', datetime.datetime(2025, 2, 25, 16, 13, 25, 850000))\n",
      "(9, 'Carlos López', 25, 'carlos@example.com', datetime.datetime(2025, 2, 25, 16, 13, 25, 850000))\n"
     ]
    }
   ],
   "source": [
    "# Leer datos de la tabla\n",
    "\n",
    "result = f\"SELECT * FROM {tb_name}\"\n",
    "cur.execute(result)\n",
    "# Obtener los nombres de las columnas\n",
    "columns = [column[0] for column in cur.description]\n",
    "rows = cur.fetchall()\n",
    "\n",
    "# Mostrar los resultados\n",
    "print(\"Datos en 'tabla_etl':\")\n",
    "for row in rows:\n",
    "    print(row)"
   ]
  },
  {
   "cell_type": "code",
   "execution_count": 11,
   "metadata": {},
   "outputs": [
    {
     "name": "stdout",
     "output_type": "stream",
     "text": [
      "   id        nombre  edad               email          fecha_registro\n",
      "0   1    Juan Pérez    28    juan@example.com 2025-02-24 17:47:21.167\n",
      "1   2  María García    34   maria@example.com 2025-02-24 17:47:21.170\n",
      "2   3  Carlos López    25  carlos@example.com 2025-02-24 17:47:21.170\n",
      "3   4    Juan Pérez    28    juan@example.com 2025-02-24 17:47:53.290\n",
      "4   5  María García    34   maria@example.com 2025-02-24 17:47:53.300\n",
      "5   6  Carlos López    25  carlos@example.com 2025-02-24 17:47:53.300\n",
      "6   7    Juan Pérez    28    juan@example.com 2025-02-25 16:13:25.850\n",
      "7   8  María García    34   maria@example.com 2025-02-25 16:13:25.850\n",
      "8   9  Carlos López    25  carlos@example.com 2025-02-25 16:13:25.850\n"
     ]
    }
   ],
   "source": [
    "# Mostrar el DataFrame\n",
    "df = pd.DataFrame(rows, columns=columns)\n",
    "df.reset_index() \n",
    "print(df)"
   ]
  },
  {
   "cell_type": "code",
   "execution_count": 12,
   "metadata": {},
   "outputs": [
    {
     "data": {
      "text/html": [
       "<div>\n",
       "<style scoped>\n",
       "    .dataframe tbody tr th:only-of-type {\n",
       "        vertical-align: middle;\n",
       "    }\n",
       "\n",
       "    .dataframe tbody tr th {\n",
       "        vertical-align: top;\n",
       "    }\n",
       "\n",
       "    .dataframe thead th {\n",
       "        text-align: right;\n",
       "    }\n",
       "</style>\n",
       "<table border=\"1\" class=\"dataframe\">\n",
       "  <thead>\n",
       "    <tr style=\"text-align: right;\">\n",
       "      <th></th>\n",
       "      <th>id</th>\n",
       "      <th>nombre</th>\n",
       "      <th>edad</th>\n",
       "      <th>email</th>\n",
       "      <th>fecha_registro</th>\n",
       "      <th>age_category</th>\n",
       "    </tr>\n",
       "  </thead>\n",
       "  <tbody>\n",
       "    <tr>\n",
       "      <th>0</th>\n",
       "      <td>1</td>\n",
       "      <td>JUAN PÉREZ</td>\n",
       "      <td>28</td>\n",
       "      <td>juan@example.com</td>\n",
       "      <td>2025-02-24 17:47:21.167</td>\n",
       "      <td>Young</td>\n",
       "    </tr>\n",
       "    <tr>\n",
       "      <th>1</th>\n",
       "      <td>2</td>\n",
       "      <td>MARÍA GARCÍA</td>\n",
       "      <td>34</td>\n",
       "      <td>maria@example.com</td>\n",
       "      <td>2025-02-24 17:47:21.170</td>\n",
       "      <td>Middle-aged</td>\n",
       "    </tr>\n",
       "    <tr>\n",
       "      <th>2</th>\n",
       "      <td>3</td>\n",
       "      <td>CARLOS LÓPEZ</td>\n",
       "      <td>25</td>\n",
       "      <td>carlos@example.com</td>\n",
       "      <td>2025-02-24 17:47:21.170</td>\n",
       "      <td>Young</td>\n",
       "    </tr>\n",
       "    <tr>\n",
       "      <th>3</th>\n",
       "      <td>4</td>\n",
       "      <td>JUAN PÉREZ</td>\n",
       "      <td>28</td>\n",
       "      <td>juan@example.com</td>\n",
       "      <td>2025-02-24 17:47:53.290</td>\n",
       "      <td>Young</td>\n",
       "    </tr>\n",
       "    <tr>\n",
       "      <th>4</th>\n",
       "      <td>5</td>\n",
       "      <td>MARÍA GARCÍA</td>\n",
       "      <td>34</td>\n",
       "      <td>maria@example.com</td>\n",
       "      <td>2025-02-24 17:47:53.300</td>\n",
       "      <td>Middle-aged</td>\n",
       "    </tr>\n",
       "  </tbody>\n",
       "</table>\n",
       "</div>"
      ],
      "text/plain": [
       "   id        nombre  edad               email          fecha_registro  \\\n",
       "0   1    JUAN PÉREZ    28    juan@example.com 2025-02-24 17:47:21.167   \n",
       "1   2  MARÍA GARCÍA    34   maria@example.com 2025-02-24 17:47:21.170   \n",
       "2   3  CARLOS LÓPEZ    25  carlos@example.com 2025-02-24 17:47:21.170   \n",
       "3   4    JUAN PÉREZ    28    juan@example.com 2025-02-24 17:47:53.290   \n",
       "4   5  MARÍA GARCÍA    34   maria@example.com 2025-02-24 17:47:53.300   \n",
       "\n",
       "  age_category  \n",
       "0        Young  \n",
       "1  Middle-aged  \n",
       "2        Young  \n",
       "3        Young  \n",
       "4  Middle-aged  "
      ]
     },
     "execution_count": 12,
     "metadata": {},
     "output_type": "execute_result"
    }
   ],
   "source": [
    "# transformar los datos\n",
    "df_transformed = df.copy()\n",
    "df_transformed[\"nombre\"] = df_transformed[\"nombre\"].str.upper()  # Uppercase names\n",
    "df_transformed[\"age_category\"] = df_transformed[\"edad\"].apply(\n",
    "    lambda x: \"Young\" if x < 30 else \"Middle-aged\" if x < 50 else \"Senior\"\n",
    ")\n",
    "\n",
    "# Display transformed DataFrame\n",
    "df_transformed.head()"
   ]
  },
  {
   "cell_type": "code",
   "execution_count": 14,
   "metadata": {},
   "outputs": [
    {
     "name": "stdout",
     "output_type": "stream",
     "text": [
      "Tabla 'transformed_data2' creada exitosamente.\n"
     ]
    }
   ],
   "source": [
    "# crear tabla transformada\n",
    "tb_name = \"transformed_data2\"\n",
    "\n",
    "try:\n",
    "    # Verificar si la tabla existe\n",
    "    cur.execute(f\"SELECT COUNT(*) FROM sys.tables WHERE name = '{tb_name}'\")\n",
    "    resultado = cur.fetchone()\n",
    "\n",
    "    if resultado[0] > 0:\n",
    "        print(f\"La tabla '{tb_name}' ya existe.\")\n",
    "    else:\n",
    "        cur.execute(f\"\"\"\n",
    "            CREATE TABLE {tb_name} (\n",
    "                id INT IDENTITY(1,1) PRIMARY KEY,\n",
    "                nombre VARCHAR(100) NOT NULL,\n",
    "                edad INT,\n",
    "                email VARCHAR(100),\n",
    "                fecha_registro DATETIME DEFAULT GETDATE(),\n",
    "                age_category VARCHAR(20)\n",
    "            )\n",
    "        \"\"\")\n",
    "        print(f\"Tabla '{tb_name}' creada exitosamente.\")\n",
    "\n",
    "    conn.commit()  # confirmar los cambios\n",
    "except Exception as e:\n",
    "    print(f\"Error al verificar o crear la tabla: {e}\")\n",
    "    conn.rollback()"
   ]
  },
  {
   "cell_type": "code",
   "execution_count": 27,
   "metadata": {},
   "outputs": [],
   "source": [
    "# crear tabla para etl\n",
    "db_name='transformed_etl'\n",
    "\n",
    "# Verificar si la tabla existe\n",
    "cur.execute(f\"SELECT COUNT(*) FROM sys.tables WHERE name = '{tb_name}'\")\n",
    "resultado = cur.fetchone()\n",
    "\n",
    "if resultado[0] == 0:\n",
    "    cur.execute(f\"\"\"\n",
    "        CREATE TABLE {tb_name} (\n",
    "            id INT IDENTITY(1,1) PRIMARY KEY,\n",
    "            nombre VARCHAR(100) NOT NULL,\n",
    "            edad INT,\n",
    "            email VARCHAR(100),\n",
    "            fecha_registro DATETIME DEFAULT GETDATE(),\n",
    "            age_category VARCHAR(20)\n",
    "            )\n",
    "        \"\"\")\n",
    "    print(f\" Tabla '{tb_name}' creada exitosamente.\")\n",
    "\n",
    "#Insertar datos\n",
    "sql = f\"\"\"\n",
    "    INSERT INTO {tb_name} (nombre, edad, email, fecha_registro, age_category) \n",
    "    VALUES (%s, %s, %s, %s, %s)\n",
    "    \"\"\"\n",
    "\n",
    "# El dataframe se vuelve lista\n",
    "data_to_insert = [\n",
    "    (row[\"nombre\"], row[\"edad\"], row[\"email\"], row[\"fecha_registro\"], row[\"age_category\"])\n",
    "    for _, row in df_transformed.iterrows()\n",
    "    ]\n",
    "\n",
    "# Ejecutar inserción en lote\n",
    "cur.executemany(sql, data_to_insert)"
   ]
  },
  {
   "cell_type": "code",
   "execution_count": 28,
   "metadata": {},
   "outputs": [
    {
     "name": "stdout",
     "output_type": "stream",
     "text": [
      "   id        nombre  edad               email          fecha_registro  \\\n",
      "0   1    JUAN PÉREZ    28    juan@example.com 2025-02-24 17:47:21.167   \n",
      "1   2  MARÍA GARCÍA    34   maria@example.com 2025-02-24 17:47:21.170   \n",
      "2   3  CARLOS LÓPEZ    25  carlos@example.com 2025-02-24 17:47:21.170   \n",
      "3   4    JUAN PÉREZ    28    juan@example.com 2025-02-24 17:47:53.290   \n",
      "4   5  MARÍA GARCÍA    34   maria@example.com 2025-02-24 17:47:53.300   \n",
      "5   6  CARLOS LÓPEZ    25  carlos@example.com 2025-02-24 17:47:53.300   \n",
      "\n",
      "  age_category  \n",
      "0        Young  \n",
      "1  Middle-aged  \n",
      "2        Young  \n",
      "3        Young  \n",
      "4  Middle-aged  \n",
      "5        Young  \n"
     ]
    }
   ],
   "source": [
    "# Leer datos de la tabla\n",
    "db_name='transformed_etl'\n",
    "\n",
    "result = f\"SELECT * FROM {tb_name}\"\n",
    "cur.execute(result)\n",
    "# Obtener los nombres de las columnas\n",
    "columns = [column[0] for column in cur.description]\n",
    "rows = cur.fetchall()\n",
    "\n",
    "# Convertir datos en DataFrame e imprimir\n",
    "db_transformed_etl = pd.DataFrame(rows, columns=columns)\n",
    "print(db_transformed_etl)\n"
   ]
  },
  {
   "cell_type": "code",
   "execution_count": 29,
   "metadata": {},
   "outputs": [],
   "source": [
    "#Cerrar cursor y conexión\n",
    "cur.close()\n",
    "conn.close()"
   ]
  }
 ],
 "metadata": {
  "kernelspec": {
   "display_name": "Python 3",
   "language": "python",
   "name": "python3"
  },
  "language_info": {
   "codemirror_mode": {
    "name": "ipython",
    "version": 3
   },
   "file_extension": ".py",
   "mimetype": "text/x-python",
   "name": "python",
   "nbconvert_exporter": "python",
   "pygments_lexer": "ipython3",
   "version": "3.13.2"
  }
 },
 "nbformat": 4,
 "nbformat_minor": 2
}
