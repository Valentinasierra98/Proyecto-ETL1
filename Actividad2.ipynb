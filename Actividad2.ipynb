{
 "cells": [
  {
   "cell_type": "code",
   "execution_count": 43,
   "metadata": {},
   "outputs": [],
   "source": [
    "import pandas as pd\n",
    "ruta_archivo1 = 'C:\\\\Users\\\\valen\\\\OneDrive\\\\Documentos\\\\VALEN UAO\\\\ETI\\\\ACTIVIDAD2\\\\MLA_100k.jsonlines'\n",
    "df = pd.read_json(ruta_archivo1, lines=True)"
   ]
  },
  {
   "cell_type": "code",
   "execution_count": 44,
   "metadata": {},
   "outputs": [
    {
     "name": "stdout",
     "output_type": "stream",
     "text": [
      "La base de datos tiene 100000 registros.\n"
     ]
    }
   ],
   "source": [
    "# Mostrar el número total de registros (filas) en el DataFrame\n",
    "num_registros = df.shape[0]\n",
    "\n",
    "print(f\"La base de datos tiene {num_registros} registros.\")\n"
   ]
  },
  {
   "cell_type": "code",
   "execution_count": 46,
   "metadata": {},
   "outputs": [
    {
     "name": "stdout",
     "output_type": "stream",
     "text": [
      "<class 'pandas.core.frame.DataFrame'>\n",
      "RangeIndex: 100000 entries, 0 to 99999\n",
      "Data columns (total 48 columns):\n",
      " #   Column                            Non-Null Count   Dtype              \n",
      "---  ------                            --------------   -----              \n",
      " 0   seller_address                    100000 non-null  object             \n",
      " 1   warranty                          39104 non-null   object             \n",
      " 2   sub_status                        100000 non-null  object             \n",
      " 3   condition                         100000 non-null  object             \n",
      " 4   seller_contact                    2219 non-null    object             \n",
      " 5   deal_ids                          100000 non-null  object             \n",
      " 6   base_price                        100000 non-null  float64            \n",
      " 7   shipping                          100000 non-null  object             \n",
      " 8   non_mercado_pago_payment_methods  100000 non-null  object             \n",
      " 9   seller_id                         100000 non-null  int64              \n",
      " 10  variations                        100000 non-null  object             \n",
      " 11  location                          100000 non-null  object             \n",
      " 12  site_id                           100000 non-null  object             \n",
      " 13  listing_type_id                   100000 non-null  object             \n",
      " 14  price                             100000 non-null  float64            \n",
      " 15  attributes                        100000 non-null  object             \n",
      " 16  buying_mode                       100000 non-null  object             \n",
      " 17  tags                              100000 non-null  object             \n",
      " 18  listing_source                    100000 non-null  object             \n",
      " 19  parent_item_id                    76989 non-null   object             \n",
      " 20  coverage_areas                    100000 non-null  object             \n",
      " 21  category_id                       100000 non-null  object             \n",
      " 22  descriptions                      100000 non-null  object             \n",
      " 23  last_updated                      100000 non-null  object             \n",
      " 24  international_delivery_mode       100000 non-null  object             \n",
      " 25  pictures                          100000 non-null  object             \n",
      " 26  id                                100000 non-null  object             \n",
      " 27  official_store_id                 818 non-null     float64            \n",
      " 28  differential_pricing              0 non-null       float64            \n",
      " 29  accepts_mercadopago               100000 non-null  bool               \n",
      " 30  original_price                    143 non-null     float64            \n",
      " 31  currency_id                       100000 non-null  object             \n",
      " 32  thumbnail                         100000 non-null  object             \n",
      " 33  title                             100000 non-null  object             \n",
      " 34  automatic_relist                  100000 non-null  bool               \n",
      " 35  date_created                      100000 non-null  object             \n",
      " 36  secure_thumbnail                  100000 non-null  object             \n",
      " 37  stop_time                         100000 non-null  datetime64[ns, UTC]\n",
      " 38  status                            100000 non-null  object             \n",
      " 39  video_id                          2985 non-null    object             \n",
      " 40  catalog_product_id                11 non-null      float64            \n",
      " 41  subtitle                          0 non-null       float64            \n",
      " 42  initial_quantity                  100000 non-null  int64              \n",
      " 43  start_time                        100000 non-null  datetime64[ns, UTC]\n",
      " 44  permalink                         100000 non-null  object             \n",
      " 45  geolocation                       100000 non-null  object             \n",
      " 46  sold_quantity                     100000 non-null  int64              \n",
      " 47  available_quantity                100000 non-null  int64              \n",
      "dtypes: bool(2), datetime64[ns, UTC](2), float64(7), int64(4), object(33)\n",
      "memory usage: 35.3+ MB\n",
      "None\n"
     ]
    }
   ],
   "source": [
    "# Crear una copia de respaldo en otro DataFrame\n",
    "respaldo_base = df.copy()\n",
    "\n",
    "# Verificar que se haya copiado correctamente\n",
    "print(respaldo_base.info())"
   ]
  },
  {
   "cell_type": "code",
   "execution_count": 47,
   "metadata": {},
   "outputs": [
    {
     "name": "stdout",
     "output_type": "stream",
     "text": [
      " La columna 'seller_address' contiene valores tipo dict.\n",
      " La columna 'seller_contact' contiene valores tipo dict.\n",
      " La columna 'shipping' contiene valores tipo dict.\n",
      " La columna 'location' contiene valores tipo dict.\n",
      " La columna 'geolocation' contiene valores tipo dict.\n"
     ]
    }
   ],
   "source": [
    "#Identificar variables tipo diccionario\n",
    "for col in df.columns:\n",
    "    if df[col].apply(lambda x: isinstance(x, dict)).any():\n",
    "        print(f\" La columna '{col}' contiene valores tipo dict.\")"
   ]
  },
  {
   "cell_type": "code",
   "execution_count": 48,
   "metadata": {},
   "outputs": [
    {
     "data": {
      "text/plain": [
       "location\n",
       "open_hours      2219\n",
       "neighborhood    2219\n",
       "longitude       2219\n",
       "country         2219\n",
       "address_line    2219\n",
       "latitude        2219\n",
       "zip_code        2219\n",
       "city            2219\n",
       "state           2219\n",
       "Name: count, dtype: int64"
      ]
     },
     "execution_count": 48,
     "metadata": {},
     "output_type": "execute_result"
    }
   ],
   "source": [
    "df['location'].dropna().apply(lambda x: list(x.keys())).explode().value_counts()\n"
   ]
  },
  {
   "cell_type": "code",
   "execution_count": 49,
   "metadata": {},
   "outputs": [],
   "source": [
    "# La columna 'location' contiene información geográfica del vendedor (barrio, ciudad, país, coordenadas, etc.).\n",
    "# Dado que el objetivo del análisis es identificar si un producto es nuevo o usado,\n",
    "# la ubicación del vendedor no es un factor clave para la clasificación.\n",
    "# Además, eliminar esta columna optimiza el almacenamiento y procesamiento de datos innecesarios.\n",
    "# Si en el futuro se requiere un análisis basado en ubicación, se puede recuperar desde los datos originales.\n",
    "\n",
    "df.drop(columns=['location'], inplace=True)"
   ]
  },
  {
   "cell_type": "code",
   "execution_count": 50,
   "metadata": {},
   "outputs": [
    {
     "data": {
      "text/plain": [
       "geolocation\n",
       "latitude     100000\n",
       "longitude    100000\n",
       "Name: count, dtype: int64"
      ]
     },
     "execution_count": 50,
     "metadata": {},
     "output_type": "execute_result"
    }
   ],
   "source": [
    "df['geolocation'].dropna().apply(lambda x: list(x.keys())).explode().value_counts()"
   ]
  },
  {
   "cell_type": "code",
   "execution_count": 51,
   "metadata": {},
   "outputs": [],
   "source": [
    "# La columna 'geolocation' contiene datos de latitud y longitud, que representan la ubicación geográfica del vendedor.\n",
    "# En el contexto del análisis, que busca diferenciar entre productos nuevos y usados, la ubicación exacta no es un factor determinante.\n",
    "# Además, esta información ya estaba en la columna 'location', que también fue eliminada.\n",
    "# Mantener 'geolocation' ocuparía espacio innecesario y aumentaría la complejidad del procesamiento sin aportar valor al objetivo del estudio.\n",
    "\n",
    "df.drop(columns=['geolocation'], inplace=True)\n"
   ]
  },
  {
   "cell_type": "code",
   "execution_count": 52,
   "metadata": {},
   "outputs": [
    {
     "data": {
      "text/plain": [
       "seller_contact\n",
       "area_code2    2219\n",
       "phone2        2219\n",
       "webpage       2219\n",
       "email         2219\n",
       "contact       2219\n",
       "area_code     2219\n",
       "other_info    2219\n",
       "phone         2219\n",
       "Name: count, dtype: int64"
      ]
     },
     "execution_count": 52,
     "metadata": {},
     "output_type": "execute_result"
    }
   ],
   "source": [
    "df['seller_contact'].dropna().apply(lambda x: list(x.keys())).explode().value_counts()"
   ]
  },
  {
   "cell_type": "code",
   "execution_count": 53,
   "metadata": {},
   "outputs": [],
   "source": [
    "# Eliminamos 'seller_contact' porque contiene información personal de los vendedores\n",
    "# y no es relevante para analizar las características de los productos (nuevos/usados).\n",
    "df.drop(columns=['seller_contact'], inplace=True)\n"
   ]
  },
  {
   "cell_type": "code",
   "execution_count": 54,
   "metadata": {},
   "outputs": [
    {
     "data": {
      "text/plain": [
       "seller_address\n",
       "comment            100000\n",
       "longitude          100000\n",
       "id                 100000\n",
       "country            100000\n",
       "address_line       100000\n",
       "latitude           100000\n",
       "search_location    100000\n",
       "zip_code           100000\n",
       "city               100000\n",
       "state              100000\n",
       "Name: count, dtype: int64"
      ]
     },
     "execution_count": 54,
     "metadata": {},
     "output_type": "execute_result"
    }
   ],
   "source": [
    "df['seller_address'].dropna().apply(lambda x: list(x.keys())).explode().value_counts()\n"
   ]
  },
  {
   "cell_type": "code",
   "execution_count": 55,
   "metadata": {},
   "outputs": [],
   "source": [
    "# Eliminamos 'seller_address' ya que contiene información geográfica detallada del vendedor\n",
    "# que no aporta al análisis de si un producto es nuevo o usado.\n",
    "df.drop(columns=['seller_address'], inplace=True)"
   ]
  },
  {
   "cell_type": "code",
   "execution_count": 56,
   "metadata": {},
   "outputs": [
    {
     "data": {
      "text/plain": [
       "shipping\n",
       "local_pick_up    100000\n",
       "tags             100000\n",
       "free_shipping    100000\n",
       "dimensions       100000\n",
       "mode             100000\n",
       "methods           96994\n",
       "free_methods       3006\n",
       "Name: count, dtype: int64"
      ]
     },
     "execution_count": 56,
     "metadata": {},
     "output_type": "execute_result"
    }
   ],
   "source": [
    "df['shipping'].dropna().apply(lambda x: list(x.keys())).explode().value_counts()\n"
   ]
  },
  {
   "cell_type": "code",
   "execution_count": 57,
   "metadata": {},
   "outputs": [],
   "source": [
    "# Eliminamos 'shipping' porque contiene información sobre el envío,\n",
    "# la cual no es relevante para determinar si un producto es nuevo o usado.\n",
    "df.drop(columns=['shipping'], inplace=True)"
   ]
  },
  {
   "cell_type": "code",
   "execution_count": 58,
   "metadata": {},
   "outputs": [
    {
     "name": "stdout",
     "output_type": "stream",
     "text": [
      "warranty                                         object\n",
      "sub_status                                       object\n",
      "condition                                        object\n",
      "deal_ids                                         object\n",
      "base_price                                      float64\n",
      "non_mercado_pago_payment_methods                 object\n",
      "seller_id                                         int64\n",
      "variations                                       object\n",
      "site_id                                          object\n",
      "listing_type_id                                  object\n",
      "price                                           float64\n",
      "attributes                                       object\n",
      "buying_mode                                      object\n",
      "tags                                             object\n",
      "listing_source                                   object\n",
      "parent_item_id                                   object\n",
      "coverage_areas                                   object\n",
      "category_id                                      object\n",
      "descriptions                                     object\n",
      "last_updated                                     object\n",
      "international_delivery_mode                      object\n",
      "pictures                                         object\n",
      "id                                               object\n",
      "official_store_id                               float64\n",
      "differential_pricing                            float64\n",
      "accepts_mercadopago                                bool\n",
      "original_price                                  float64\n",
      "currency_id                                      object\n",
      "thumbnail                                        object\n",
      "title                                            object\n",
      "automatic_relist                                   bool\n",
      "date_created                                     object\n",
      "secure_thumbnail                                 object\n",
      "stop_time                           datetime64[ns, UTC]\n",
      "status                                           object\n",
      "video_id                                         object\n",
      "catalog_product_id                              float64\n",
      "subtitle                                        float64\n",
      "initial_quantity                                  int64\n",
      "start_time                          datetime64[ns, UTC]\n",
      "permalink                                        object\n",
      "sold_quantity                                     int64\n",
      "available_quantity                                int64\n",
      "dtype: object\n"
     ]
    }
   ],
   "source": [
    "# Mostrar los tipos de datos de cada columna\n",
    "print(df.dtypes)"
   ]
  },
  {
   "cell_type": "code",
   "execution_count": 59,
   "metadata": {},
   "outputs": [],
   "source": [
    "# Convertir las fechas a datetime\n",
    "date_columns = ['last_updated', 'date_created']\n",
    "df[date_columns] = df[date_columns].apply(pd.to_datetime, errors='coerce')"
   ]
  },
  {
   "cell_type": "code",
   "execution_count": 60,
   "metadata": {},
   "outputs": [],
   "source": [
    "# Identificar columnas categóricas en el DataFrame\n",
    "categorical_columns = df.select_dtypes(include=['object', 'category']).columns"
   ]
  },
  {
   "cell_type": "code",
   "execution_count": 61,
   "metadata": {},
   "outputs": [
    {
     "name": "stdout",
     "output_type": "stream",
     "text": [
      "Columna 'warranty' tiene los tipos: [<class 'NoneType'> <class 'str'>]\n",
      "Columna 'sub_status' tiene los tipos: [<class 'list'>]\n",
      "Columna 'condition' tiene los tipos: [<class 'str'>]\n",
      "Columna 'deal_ids' tiene los tipos: [<class 'list'>]\n",
      "Columna 'non_mercado_pago_payment_methods' tiene los tipos: [<class 'list'>]\n",
      "Columna 'variations' tiene los tipos: [<class 'list'>]\n",
      "Columna 'site_id' tiene los tipos: [<class 'str'>]\n",
      "Columna 'listing_type_id' tiene los tipos: [<class 'str'>]\n",
      "Columna 'attributes' tiene los tipos: [<class 'list'>]\n",
      "Columna 'buying_mode' tiene los tipos: [<class 'str'>]\n",
      "Columna 'tags' tiene los tipos: [<class 'list'>]\n",
      "Columna 'listing_source' tiene los tipos: [<class 'str'>]\n",
      "Columna 'parent_item_id' tiene los tipos: [<class 'str'> <class 'NoneType'>]\n",
      "Columna 'coverage_areas' tiene los tipos: [<class 'list'>]\n",
      "Columna 'category_id' tiene los tipos: [<class 'str'>]\n",
      "Columna 'descriptions' tiene los tipos: [<class 'list'>]\n",
      "Columna 'international_delivery_mode' tiene los tipos: [<class 'str'>]\n",
      "Columna 'pictures' tiene los tipos: [<class 'list'>]\n",
      "Columna 'id' tiene los tipos: [<class 'str'>]\n",
      "Columna 'currency_id' tiene los tipos: [<class 'str'>]\n",
      "Columna 'thumbnail' tiene los tipos: [<class 'str'>]\n",
      "Columna 'title' tiene los tipos: [<class 'str'>]\n",
      "Columna 'secure_thumbnail' tiene los tipos: [<class 'str'>]\n",
      "Columna 'status' tiene los tipos: [<class 'str'>]\n",
      "Columna 'video_id' tiene los tipos: [<class 'NoneType'> <class 'str'>]\n",
      "Columna 'permalink' tiene los tipos: [<class 'str'>]\n"
     ]
    }
   ],
   "source": [
    "# Verificar qué columnas contienen listas\n",
    "for col in categorical_columns:\n",
    "    unique_types = df[col].apply(type).unique()\n",
    "    print(f\"Columna '{col}' tiene los tipos: {unique_types}\")"
   ]
  },
  {
   "cell_type": "code",
   "execution_count": 62,
   "metadata": {},
   "outputs": [
    {
     "name": "stdout",
     "output_type": "stream",
     "text": [
      "warranty           category\n",
      "sub_status         category\n",
      "condition          category\n",
      "site_id            category\n",
      "listing_type_id    category\n",
      "buying_mode        category\n",
      "tags               category\n",
      "listing_source     category\n",
      "category_id        category\n",
      "status             category\n",
      "dtype: object\n"
     ]
    }
   ],
   "source": [
    "# Convertir listas a strings en 'sub_status' y 'tags'\n",
    "for col in ['sub_status', 'tags']:\n",
    "    df[col] = df[col].apply(lambda x: ', '.join(x) if isinstance(x, list) else x)\n",
    "\n",
    "# Convertir a tipo 'category'\n",
    "categorical_columns = ['warranty', 'sub_status', 'condition', 'site_id', \n",
    "                       'listing_type_id', 'buying_mode', 'tags', \n",
    "                       'listing_source', 'category_id', 'status']\n",
    "\n",
    "df[categorical_columns] = df[categorical_columns].astype('category')\n",
    "\n",
    "# Verificar cambios\n",
    "print(df[categorical_columns].dtypes)"
   ]
  },
  {
   "cell_type": "code",
   "execution_count": 63,
   "metadata": {},
   "outputs": [
    {
     "name": "stdout",
     "output_type": "stream",
     "text": [
      "Columna: warranty\n",
      "warranty\n",
      "Sí                                                                                                                                                                                                                                   5682\n",
      "Sin garantía                                                                                                                                                                                                                         5442\n",
      "SI                                                                                                                                                                                                                                    592\n",
      "6 meses                                                                                                                                                                                                                               547\n",
      "6 MESES                                                                                                                                                                                                                               397\n",
      "                                                                                                                                                                                                                                     ... \n",
      "¡Garantizado!                                                                                                                                                                                                                           1\n",
      "Comprá seguro, local comercial habilitado por la M.C.B.A. Artículos de venta libre aprobados por I.N.A.L. (A.N.M.A.T.). Faja de seguridad. Número de lote y fecha de vencimiento impresos en el envase a la vista del consumidor.       1\n",
      "¡¡¡  NUEVA -100% ORIGINAL ...!!! LISTA PARA REGALAR O REGALARTE.                                                                                                                                                                        1\n",
      "¡¡¡  NUEVAS...100 %  ORIGINAL ....EN CAJA...!!! LISTA PARA REGALAR O REGALARTE.                                                                                                                                                         1\n",
      "Todos nuestros productos estan garantizados , somos fabricante y nos hacemos responsable de cualquier falla proveniente de fabrica                                                                                                      1\n",
      "Name: count, Length: 10264, dtype: int64 \n",
      "\n",
      "Columna: sub_status\n",
      "sub_status\n",
      "             99014\n",
      "suspended      966\n",
      "expired         13\n",
      "deleted          7\n",
      "Name: count, dtype: int64 \n",
      "\n",
      "Columna: condition\n",
      "condition\n",
      "new     53758\n",
      "used    46242\n",
      "Name: count, dtype: int64 \n",
      "\n",
      "Columna: site_id\n",
      "site_id\n",
      "MLA    100000\n",
      "Name: count, dtype: int64 \n",
      "\n",
      "Columna: listing_type_id\n",
      "listing_type_id\n",
      "bronze          63170\n",
      "free            21388\n",
      "silver           9114\n",
      "gold_special     3023\n",
      "gold             2445\n",
      "gold_premium      842\n",
      "gold_pro           18\n",
      "Name: count, dtype: int64 \n",
      "\n",
      "Columna: buying_mode\n",
      "buying_mode\n",
      "buy_it_now    97001\n",
      "classified     2219\n",
      "auction         780\n",
      "Name: count, dtype: int64 \n",
      "\n",
      "Columna: tags\n",
      "tags\n",
      "dragged_bids_and_visits                            72551\n",
      "                                                   24910\n",
      "good_quality_thumbnail, dragged_bids_and_visits     1330\n",
      "dragged_visits                                       516\n",
      "good_quality_thumbnail                               392\n",
      "dragged_visits, free_relist                          285\n",
      "poor_quality_thumbnail, dragged_bids_and_visits       11\n",
      "poor_quality_thumbnail                                 5\n",
      "Name: count, dtype: int64 \n",
      "\n",
      "Columna: listing_source\n",
      "listing_source\n",
      "    100000\n",
      "Name: count, dtype: int64 \n",
      "\n",
      "Columna: category_id\n",
      "category_id\n",
      "MLA1227     4593\n",
      "MLA2044     1950\n",
      "MLA41287     932\n",
      "MLA3530      758\n",
      "MLA2038      665\n",
      "            ... \n",
      "MLA44328       1\n",
      "MLA44768       1\n",
      "MLA44675       1\n",
      "MLA44537       1\n",
      "MLA44523       1\n",
      "Name: count, Length: 10907, dtype: int64 \n",
      "\n",
      "Columna: status\n",
      "status\n",
      "active            95675\n",
      "paused             4304\n",
      "closed               20\n",
      "not_yet_active        1\n",
      "Name: count, dtype: int64 \n",
      "\n"
     ]
    }
   ],
   "source": [
    "#revisar las categorias\n",
    "for col in categorical_columns:\n",
    "    print(f\"Columna: {col}\")\n",
    "    print(df[col].value_counts(), \"\\n\")"
   ]
  },
  {
   "cell_type": "code",
   "execution_count": 64,
   "metadata": {},
   "outputs": [],
   "source": [
    "# Eliminamos variables irrelevantes que no aportan al análisis\n",
    "columns_to_drop = ['site_id', 'listing_source', 'tags']\n",
    "df.drop(columns=columns_to_drop, inplace=True)\n",
    "\n",
    "# Justificación:\n",
    "# - 'site_id' solo tiene un valor único ('MLA'), por lo que no aporta información útil.\n",
    "# - 'listing_source' está vacío en todos los registros, por lo que no nos sirve.\n",
    "# - 'tags' tiene múltiples valores combinados en una sola celda, lo que dificulta su análisis sin una transformación compleja."
   ]
  },
  {
   "cell_type": "code",
   "execution_count": 65,
   "metadata": {},
   "outputs": [],
   "source": [
    "# Limpiamos la columna 'warranty' para estandarizar los valores\n",
    "def clean_warranty(value):\n",
    "    if pd.isna(value):\n",
    "        return 'No Especificado'\n",
    "    value = str(value).lower().strip()\n",
    "    if 'mes' in value or 'año' in value or value.isdigit():\n",
    "        return 'Tiempo Definido'\n",
    "    elif value in ['sí', 'si', 'yes']:\n",
    "        return 'SI'\n",
    "    elif 'sin garantía' in value:\n",
    "        return 'No'\n",
    "    return 'Otro'\n",
    "\n",
    "df['warranty'] = df['warranty'].apply(clean_warranty)\n",
    "\n",
    "# Justificación:\n",
    "# - 'warranty' tiene valores inconsistentes (ej: 'Sí', 'SI', '6 MESES').\n",
    "# - Normalizamos a categorías clave: 'SI', 'No', 'Tiempo Definido', 'Otro'."
   ]
  },
  {
   "cell_type": "code",
   "execution_count": 66,
   "metadata": {},
   "outputs": [
    {
     "name": "stdout",
     "output_type": "stream",
     "text": [
      "<class 'pandas.core.frame.DataFrame'>\n",
      "RangeIndex: 100000 entries, 0 to 99999\n",
      "Data columns (total 40 columns):\n",
      " #   Column                            Non-Null Count   Dtype              \n",
      "---  ------                            --------------   -----              \n",
      " 0   warranty                          39104 non-null   category           \n",
      " 1   sub_status                        100000 non-null  category           \n",
      " 2   condition                         100000 non-null  category           \n",
      " 3   deal_ids                          100000 non-null  object             \n",
      " 4   base_price                        100000 non-null  float64            \n",
      " 5   non_mercado_pago_payment_methods  100000 non-null  object             \n",
      " 6   seller_id                         100000 non-null  int64              \n",
      " 7   variations                        100000 non-null  object             \n",
      " 8   listing_type_id                   100000 non-null  category           \n",
      " 9   price                             100000 non-null  float64            \n",
      " 10  attributes                        100000 non-null  object             \n",
      " 11  buying_mode                       100000 non-null  category           \n",
      " 12  parent_item_id                    76989 non-null   object             \n",
      " 13  coverage_areas                    100000 non-null  object             \n",
      " 14  category_id                       100000 non-null  category           \n",
      " 15  descriptions                      100000 non-null  object             \n",
      " 16  last_updated                      100000 non-null  datetime64[ns, UTC]\n",
      " 17  international_delivery_mode       100000 non-null  object             \n",
      " 18  pictures                          100000 non-null  object             \n",
      " 19  id                                100000 non-null  object             \n",
      " 20  official_store_id                 818 non-null     float64            \n",
      " 21  differential_pricing              0 non-null       float64            \n",
      " 22  accepts_mercadopago               100000 non-null  bool               \n",
      " 23  original_price                    143 non-null     float64            \n",
      " 24  currency_id                       100000 non-null  object             \n",
      " 25  thumbnail                         100000 non-null  object             \n",
      " 26  title                             100000 non-null  object             \n",
      " 27  automatic_relist                  100000 non-null  bool               \n",
      " 28  date_created                      100000 non-null  datetime64[ns, UTC]\n",
      " 29  secure_thumbnail                  100000 non-null  object             \n",
      " 30  stop_time                         100000 non-null  datetime64[ns, UTC]\n",
      " 31  status                            100000 non-null  category           \n",
      " 32  video_id                          2985 non-null    object             \n",
      " 33  catalog_product_id                11 non-null      float64            \n",
      " 34  subtitle                          0 non-null       float64            \n",
      " 35  initial_quantity                  100000 non-null  int64              \n",
      " 36  start_time                        100000 non-null  datetime64[ns, UTC]\n",
      " 37  permalink                         100000 non-null  object             \n",
      " 38  sold_quantity                     100000 non-null  int64              \n",
      " 39  available_quantity                100000 non-null  int64              \n",
      "dtypes: bool(2), category(7), datetime64[ns, UTC](4), float64(7), int64(4), object(16)\n",
      "memory usage: 24.9+ MB\n",
      "None\n",
      "  warranty sub_status condition deal_ids  base_price  \\\n",
      "0      NaN                  new       []        80.0   \n",
      "1     Otro                 used       []      2650.0   \n",
      "2      NaN                 used       []        60.0   \n",
      "3      NaN                  new       []       580.0   \n",
      "4     Otro                 used       []        30.0   \n",
      "\n",
      "                    non_mercado_pago_payment_methods  seller_id variations  \\\n",
      "0  [{'description': 'Transferencia bancaria', 'id...   74952096         []   \n",
      "1  [{'description': 'Transferencia bancaria', 'id...   42093335         []   \n",
      "2  [{'description': 'Transferencia bancaria', 'id...  133384258         []   \n",
      "3  [{'description': 'Transferencia bancaria', 'id...  143001605         []   \n",
      "4  [{'description': 'Transferencia bancaria', 'id...   96873449         []   \n",
      "\n",
      "  listing_type_id   price  ...                 stop_time  status video_id  \\\n",
      "0          bronze    80.0  ... 2015-11-04 20:42:53+00:00  active     None   \n",
      "1          silver  2650.0  ... 2015-11-25 18:08:30+00:00  active     None   \n",
      "2          bronze    60.0  ... 2015-11-08 23:57:07+00:00  active     None   \n",
      "3          silver   580.0  ... 2015-12-04 01:13:16+00:00  active     None   \n",
      "4          bronze    30.0  ... 2015-10-23 22:07:20+00:00  active     None   \n",
      "\n",
      "  catalog_product_id subtitle initial_quantity                start_time  \\\n",
      "0                NaN      NaN                1 2015-09-05 20:42:53+00:00   \n",
      "1                NaN      NaN                1 2015-09-26 18:08:30+00:00   \n",
      "2                NaN      NaN                1 2015-09-09 23:57:07+00:00   \n",
      "3                NaN      NaN                1 2015-09-28 18:47:56+00:00   \n",
      "4                NaN      NaN                1 2015-08-24 22:07:20+00:00   \n",
      "\n",
      "                                           permalink sold_quantity  \\\n",
      "0  http://articulo.mercadolibre.com.ar/MLA-578052...             0   \n",
      "1  http://articulo.mercadolibre.com.ar/MLA-581565...             0   \n",
      "2  http://articulo.mercadolibre.com.ar/MLA-578780...             0   \n",
      "3  http://articulo.mercadolibre.com.ar/MLA-581877...             0   \n",
      "4  http://articulo.mercadolibre.com.ar/MLA-576112...             0   \n",
      "\n",
      "  available_quantity  \n",
      "0                  1  \n",
      "1                  1  \n",
      "2                  1  \n",
      "3                  1  \n",
      "4                  1  \n",
      "\n",
      "[5 rows x 40 columns]\n"
     ]
    }
   ],
   "source": [
    "# Convertimos variables categóricas a tipo 'category' para optimizar memoria\n",
    "categorical_columns = ['warranty', 'sub_status', 'condition', 'listing_type_id', 'buying_mode', 'category_id', 'status']\n",
    "df[categorical_columns] = df[categorical_columns].astype('category')\n",
    "\n",
    "# Justificación:\n",
    "# - Convertir a 'category' reduce el uso de memoria y mejora la eficiencia.\n",
    "# - Estas columnas representan categorías discretas, no valores numéricos continuos.\n",
    "\n",
    "# Mostramos información final para verificar cambios\n",
    "print(df.info())\n",
    "print(df.head())"
   ]
  },
  {
   "cell_type": "code",
   "execution_count": 67,
   "metadata": {},
   "outputs": [
    {
     "name": "stdout",
     "output_type": "stream",
     "text": [
      "[{'description': 'Transferencia bancaria', 'id': 'MLATB', 'type': 'G'}, {'description': 'Acordar con el comprador', 'id': 'MLAWC', 'type': 'G'}, {'description': 'Efectivo', 'id': 'MLAMO', 'type': 'G'}]\n"
     ]
    }
   ],
   "source": [
    "print(df[\"non_mercado_pago_payment_methods\"].iloc[0])  # Muestra el contenido de la primera fila"
   ]
  },
  {
   "cell_type": "code",
   "execution_count": 68,
   "metadata": {},
   "outputs": [],
   "source": [
    "# Eliminamos la columna de métodos de pago no relacionados con Mercado Pago\n",
    "df.drop(columns=['non_mercado_pago_payment_methods'], inplace=True)"
   ]
  },
  {
   "cell_type": "code",
   "execution_count": 69,
   "metadata": {},
   "outputs": [
    {
     "name": "stdout",
     "output_type": "stream",
     "text": [
      "[]\n"
     ]
    }
   ],
   "source": [
    "print(df[\"variations\"].iloc[0])  # Muestra el contenido de la primera fila"
   ]
  },
  {
   "cell_type": "code",
   "execution_count": 70,
   "metadata": {},
   "outputs": [
    {
     "name": "stdout",
     "output_type": "stream",
     "text": [
      "[]\n"
     ]
    }
   ],
   "source": [
    "print(df[\"attributes\"].iloc[0])  # Muestra el contenido de la primera fila"
   ]
  },
  {
   "cell_type": "code",
   "execution_count": 71,
   "metadata": {},
   "outputs": [
    {
     "data": {
      "text/plain": [
       "np.int64(12425)"
      ]
     },
     "execution_count": 71,
     "metadata": {},
     "output_type": "execute_result"
    }
   ],
   "source": [
    "#Verificar si están vacias\n",
    "df[\"variations\"].apply(lambda x: len(x) > 0).sum()\n",
    "df[\"attributes\"].apply(lambda x: len(x) > 0).sum()"
   ]
  },
  {
   "cell_type": "code",
   "execution_count": 72,
   "metadata": {},
   "outputs": [
    {
     "name": "stdout",
     "output_type": "stream",
     "text": [
      "warranty                        60.896\n",
      "sub_status                       0.000\n",
      "condition                        0.000\n",
      "deal_ids                         0.000\n",
      "base_price                       0.000\n",
      "seller_id                        0.000\n",
      "variations                       0.000\n",
      "listing_type_id                  0.000\n",
      "price                            0.000\n",
      "attributes                       0.000\n",
      "buying_mode                      0.000\n",
      "parent_item_id                  23.011\n",
      "coverage_areas                   0.000\n",
      "category_id                      0.000\n",
      "descriptions                     0.000\n",
      "last_updated                     0.000\n",
      "international_delivery_mode      0.000\n",
      "pictures                         0.000\n",
      "id                               0.000\n",
      "official_store_id               99.182\n",
      "differential_pricing           100.000\n",
      "accepts_mercadopago              0.000\n",
      "original_price                  99.857\n",
      "currency_id                      0.000\n",
      "thumbnail                        0.000\n",
      "title                            0.000\n",
      "automatic_relist                 0.000\n",
      "date_created                     0.000\n",
      "secure_thumbnail                 0.000\n",
      "stop_time                        0.000\n",
      "status                           0.000\n",
      "video_id                        97.015\n",
      "catalog_product_id              99.989\n",
      "subtitle                       100.000\n",
      "initial_quantity                 0.000\n",
      "start_time                       0.000\n",
      "permalink                        0.000\n",
      "sold_quantity                    0.000\n",
      "available_quantity               0.000\n",
      "dtype: float64\n"
     ]
    }
   ],
   "source": [
    "# Calcular el porcentaje de valores faltantes por columna\n",
    "porcentaje_faltantes = (df.isnull().sum() / len(df)) * 100\n",
    "\n",
    "# Mostrar el resultado\n",
    "print(porcentaje_faltantes)"
   ]
  },
  {
   "cell_type": "code",
   "execution_count": 73,
   "metadata": {},
   "outputs": [],
   "source": [
    "#Desde una perspectiva estadística, las columnas con más del 80% de valores faltantes aportan poca información útil al análisis.  \n",
    "#Dado que la mayoría de los registros carecen de datos en estas variables, su inclusión podría introducir sesgos o ruido en el modelo.  \n",
    "#Eliminarlas mejora la calidad del dataset, reduciendo la dimensionalidad y facilitando el análisis sin pérdida significativa de información relevante.  \n"
   ]
  },
  {
   "cell_type": "code",
   "execution_count": 74,
   "metadata": {},
   "outputs": [
    {
     "name": "stdout",
     "output_type": "stream",
     "text": [
      "Columnas eliminadas: ['official_store_id', 'differential_pricing', 'original_price', 'video_id', 'catalog_product_id', 'subtitle']\n",
      "Columnas actuales: Index(['warranty', 'sub_status', 'condition', 'deal_ids', 'base_price',\n",
      "       'seller_id', 'variations', 'listing_type_id', 'price', 'attributes',\n",
      "       'buying_mode', 'parent_item_id', 'coverage_areas', 'category_id',\n",
      "       'descriptions', 'last_updated', 'international_delivery_mode',\n",
      "       'pictures', 'id', 'accepts_mercadopago', 'currency_id', 'thumbnail',\n",
      "       'title', 'automatic_relist', 'date_created', 'secure_thumbnail',\n",
      "       'stop_time', 'status', 'initial_quantity', 'start_time', 'permalink',\n",
      "       'sold_quantity', 'available_quantity'],\n",
      "      dtype='object')\n"
     ]
    }
   ],
   "source": [
    "# Ver porcentaje de valores nulos\n",
    "porcentaje_faltantes = (df.isnull().sum() / len(df)) * 100\n",
    "\n",
    "# Identificar columnas con más del 80% de valores nulos\n",
    "columnas_a_eliminar = porcentaje_faltantes[porcentaje_faltantes > 80].index\n",
    "\n",
    "# Eliminar columnas del DataFrame\n",
    "df = df.drop(columns=columnas_a_eliminar)\n",
    "\n",
    "# Verificar que se eliminaron\n",
    "print(\"Columnas eliminadas:\", list(columnas_a_eliminar))\n",
    "print(\"Columnas actuales:\", df.columns)"
   ]
  },
  {
   "cell_type": "code",
   "execution_count": 75,
   "metadata": {},
   "outputs": [],
   "source": [
    "# Eliminamos las siguientes variables porque no aportan información clave para nuestro análisis de condición del producto (nuevo/usado):\n",
    "# - 'warranty', 'sub_status': Información adicional que no impacta directamente en la clasificación de estado del producto.\n",
    "# - 'variations': Diferencias dentro del mismo producto, pero no ayudan a distinguir entre nuevo y usado.\n",
    "# - 'listing_type_id', 'buying_mode': Tipo de publicación y modo de compra, no influyen en la condición del producto.\n",
    "# - 'descriptions', 'pictures', 'thumbnail', 'secure_thumbnail': Información visual y descriptiva que no necesitamos para clasificar el estado del producto.\n",
    "# - 'accepts_mercadopago': No está relacionado con si el producto es nuevo o usado.\n",
    "# - 'currency_id': Información sobre la moneda de la transacción, irrelevante para nuestro objetivo.\n",
    "# - 'title', 'subtitle', 'permalink': Metadatos de la publicación sin impacto en la condición del producto.\n",
    "# - 'automatic_relist': No afecta si un producto es nuevo o usado.\n",
    "# - 'video_id': Contenido no relevante para nuestra clasificación."
   ]
  },
  {
   "cell_type": "code",
   "execution_count": 76,
   "metadata": {},
   "outputs": [],
   "source": [
    "columnas_a_eliminar = [\n",
    "    'warranty', 'sub_status', 'variations','deal_ids' ,'listing_type_id', \n",
    "    'attributes', 'buying_mode', 'descriptions', 'pictures', 'accepts_mercadopago',\n",
    "    'currency_id', 'thumbnail', 'title', 'automatic_relist', 'secure_thumbnail', 'permalink','coverage_areas','international_delivery_mode'\n",
    "]\n",
    "\n",
    "df = df.drop(columns=columnas_a_eliminar)"
   ]
  },
  {
   "cell_type": "code",
   "execution_count": 77,
   "metadata": {},
   "outputs": [
    {
     "name": "stdout",
     "output_type": "stream",
     "text": [
      "Index(['condition', 'base_price', 'seller_id', 'price', 'parent_item_id',\n",
      "       'category_id', 'last_updated', 'id', 'date_created', 'stop_time',\n",
      "       'status', 'initial_quantity', 'start_time', 'sold_quantity',\n",
      "       'available_quantity'],\n",
      "      dtype='object')\n"
     ]
    }
   ],
   "source": [
    "# Mostrar los nombres de las columnas que quedan\n",
    "print(df.columns)"
   ]
  },
  {
   "cell_type": "code",
   "execution_count": 78,
   "metadata": {},
   "outputs": [
    {
     "name": "stdout",
     "output_type": "stream",
     "text": [
      "<class 'pandas.core.frame.DataFrame'>\n",
      "RangeIndex: 100000 entries, 0 to 99999\n",
      "Data columns (total 15 columns):\n",
      " #   Column              Non-Null Count   Dtype              \n",
      "---  ------              --------------   -----              \n",
      " 0   condition           100000 non-null  category           \n",
      " 1   base_price          100000 non-null  float64            \n",
      " 2   seller_id           100000 non-null  int64              \n",
      " 3   price               100000 non-null  float64            \n",
      " 4   parent_item_id      76989 non-null   object             \n",
      " 5   category_id         100000 non-null  category           \n",
      " 6   last_updated        100000 non-null  datetime64[ns, UTC]\n",
      " 7   id                  100000 non-null  object             \n",
      " 8   date_created        100000 non-null  datetime64[ns, UTC]\n",
      " 9   stop_time           100000 non-null  datetime64[ns, UTC]\n",
      " 10  status              100000 non-null  category           \n",
      " 11  initial_quantity    100000 non-null  int64              \n",
      " 12  start_time          100000 non-null  datetime64[ns, UTC]\n",
      " 13  sold_quantity       100000 non-null  int64              \n",
      " 14  available_quantity  100000 non-null  int64              \n",
      "dtypes: category(3), datetime64[ns, UTC](4), float64(2), int64(4), object(2)\n",
      "memory usage: 9.9+ MB\n",
      "None\n",
      "  condition  base_price  seller_id   price parent_item_id category_id  \\\n",
      "0       new        80.0   74952096    80.0   MLA568261029   MLA126406   \n",
      "1      used      2650.0   42093335  2650.0   MLA561574487    MLA10267   \n",
      "2      used        60.0  133384258    60.0   MLA568881256     MLA1227   \n",
      "3       new       580.0  143001605   580.0           None    MLA86345   \n",
      "4      used        30.0   96873449    30.0   MLA566354576    MLA41287   \n",
      "\n",
      "                      last_updated            id              date_created  \\\n",
      "0        2015-09-05 20:42:58+00:00  MLA578052519 2015-09-05 20:42:53+00:00   \n",
      "1        2015-09-26 18:08:34+00:00  MLA581565358 2015-09-26 18:08:30+00:00   \n",
      "2        2015-09-09 23:57:10+00:00  MLA578780872 2015-09-09 23:57:07+00:00   \n",
      "3 2015-10-05 16:03:50.306000+00:00  MLA581877385 2015-09-28 18:47:56+00:00   \n",
      "4        2015-08-28 13:37:41+00:00  MLA576112692 2015-08-24 22:07:20+00:00   \n",
      "\n",
      "                  stop_time  status  initial_quantity  \\\n",
      "0 2015-11-04 20:42:53+00:00  active                 1   \n",
      "1 2015-11-25 18:08:30+00:00  active                 1   \n",
      "2 2015-11-08 23:57:07+00:00  active                 1   \n",
      "3 2015-12-04 01:13:16+00:00  active                 1   \n",
      "4 2015-10-23 22:07:20+00:00  active                 1   \n",
      "\n",
      "                 start_time  sold_quantity  available_quantity  \n",
      "0 2015-09-05 20:42:53+00:00              0                   1  \n",
      "1 2015-09-26 18:08:30+00:00              0                   1  \n",
      "2 2015-09-09 23:57:07+00:00              0                   1  \n",
      "3 2015-09-28 18:47:56+00:00              0                   1  \n",
      "4 2015-08-24 22:07:20+00:00              0                   1  \n"
     ]
    }
   ],
   "source": [
    "# Mostramos información final para verificar cambios\n",
    "print(df.info())\n",
    "print(df.head())"
   ]
  },
  {
   "cell_type": "code",
   "execution_count": 81,
   "metadata": {},
   "outputs": [],
   "source": [
    "# Reemplazar valores nulos en la columna 'parent_item_id' por 'Sin_Registro'\n",
    "df.update(df[\"parent_item_id\"].fillna(\"Sin_Registro\"))"
   ]
  },
  {
   "cell_type": "code",
   "execution_count": 38,
   "metadata": {},
   "outputs": [],
   "source": [
    "# Variables clave para el análisis y la predicción de la condición del producto\n",
    "\n",
    "# condition: Variable objetivo o repuesta, indica si el producto es nuevo o usado.\n",
    "# base_price: Precio original del producto, útil para comparar con el precio final y detectar descuentos.\n",
    "# seller_id: Identificación del vendedor, puede ayudar a analizar tendencias entre distintos vendedores.\n",
    "# price: Precio final del producto, importante para entender estrategias de precios.\n",
    "# parent_item_id: Identificación del producto base, útil para agrupar productos similares.\n",
    "# category_id: Categoría del producto, permite analizar diferencias entre tipos de productos.\n",
    "# last_updated: Última actualización del producto, podría indicar cambios en la oferta.\n",
    "# id: Identificador único del producto, necesario para el seguimiento de cada publicación.\n",
    "# date_created: Fecha de creación de la publicación, útil para calcular antigüedad de la oferta.\n",
    "# stop_time: Fecha en la que la publicación finalizó, permite calcular la duración de la oferta.\n",
    "# status: Estado actual de la publicación (activa, finalizada, etc.), importante para filtrar datos.\n",
    "# initial_quantity: Cantidad inicial disponible del producto, ayuda a entender el stock.\n",
    "# start_time: Fecha en la que comenzó la publicación, necesaria para cálculos de duración.\n",
    "# sold_quantity: Cantidad vendida, clave para medir demanda y éxito del producto.\n",
    "# available_quantity: Cantidad restante disponible, útil para conocer la rotación del stock."
   ]
  },
  {
   "cell_type": "code",
   "execution_count": 87,
   "metadata": {},
   "outputs": [],
   "source": [
    "#Para mejoras los análisis podemos convertir las variables tipo fecha a columnas detalladas.\n",
    "# Creamos nuevas columnas detalladas\n",
    "df[\"year_created\"] = df[\"date_created\"].dt.year\n",
    "df[\"month_created\"] = df[\"date_created\"].dt.month\n",
    "df[\"day_created\"] = df[\"date_created\"].dt.day\n",
    "df[\"weekday_created\"] = df[\"date_created\"].dt.weekday  # 0=Lunes, 6=Domingo\n",
    "df[\"hour_created\"] = df[\"date_created\"].dt.hour\n",
    "\n",
    "df[\"year_start\"] = df[\"start_time\"].dt.year\n",
    "df[\"month_start\"] = df[\"start_time\"].dt.month\n",
    "df[\"day_start\"] = df[\"start_time\"].dt.day\n",
    "df[\"weekday_start\"] = df[\"start_time\"].dt.weekday\n",
    "df[\"hour_start\"] = df[\"start_time\"].dt.hour\n",
    "\n",
    "df[\"year_stop\"] = df[\"stop_time\"].dt.year\n",
    "df[\"month_stop\"] = df[\"stop_time\"].dt.month\n",
    "df[\"day_stop\"] = df[\"stop_time\"].dt.day\n",
    "df[\"weekday_stop\"] = df[\"stop_time\"].dt.weekday\n",
    "df[\"hour_stop\"] = df[\"stop_time\"].dt.hour\n",
    "\n",
    "df[\"listing_duration_days\"] = (df[\"stop_time\"] - df[\"start_time\"]).dt.days  # Duración en días\n",
    "\n"
   ]
  },
  {
   "cell_type": "code",
   "execution_count": 88,
   "metadata": {},
   "outputs": [],
   "source": [
    "# Lista de columnas originales de fecha a eliminar\n",
    "columnas_a_eliminar = [\"date_created\", \"start_time\", \"stop_time\"]\n",
    "\n",
    "# Eliminamos las columnas\n",
    "df.drop(columns=columnas_a_eliminar, inplace=True)"
   ]
  },
  {
   "cell_type": "code",
   "execution_count": 89,
   "metadata": {},
   "outputs": [
    {
     "name": "stdout",
     "output_type": "stream",
     "text": [
      "<class 'pandas.core.frame.DataFrame'>\n",
      "RangeIndex: 100000 entries, 0 to 99999\n",
      "Data columns (total 28 columns):\n",
      " #   Column                 Non-Null Count   Dtype              \n",
      "---  ------                 --------------   -----              \n",
      " 0   condition              100000 non-null  category           \n",
      " 1   base_price             100000 non-null  float64            \n",
      " 2   seller_id              100000 non-null  int64              \n",
      " 3   price                  100000 non-null  float64            \n",
      " 4   parent_item_id         100000 non-null  object             \n",
      " 5   category_id            100000 non-null  category           \n",
      " 6   last_updated           100000 non-null  datetime64[ns, UTC]\n",
      " 7   id                     100000 non-null  object             \n",
      " 8   status                 100000 non-null  category           \n",
      " 9   initial_quantity       100000 non-null  int64              \n",
      " 10  sold_quantity          100000 non-null  int64              \n",
      " 11  available_quantity     100000 non-null  int64              \n",
      " 12  year_created           100000 non-null  int32              \n",
      " 13  month_created          100000 non-null  int32              \n",
      " 14  day_created            100000 non-null  int32              \n",
      " 15  weekday_created        100000 non-null  int32              \n",
      " 16  hour_created           100000 non-null  int32              \n",
      " 17  year_start             100000 non-null  int32              \n",
      " 18  month_start            100000 non-null  int32              \n",
      " 19  day_start              100000 non-null  int32              \n",
      " 20  weekday_start          100000 non-null  int32              \n",
      " 21  hour_start             100000 non-null  int32              \n",
      " 22  year_stop              100000 non-null  int32              \n",
      " 23  month_stop             100000 non-null  int32              \n",
      " 24  day_stop               100000 non-null  int32              \n",
      " 25  weekday_stop           100000 non-null  int32              \n",
      " 26  hour_stop              100000 non-null  int32              \n",
      " 27  listing_duration_days  100000 non-null  int64              \n",
      "dtypes: category(3), datetime64[ns, UTC](1), float64(2), int32(15), int64(5), object(2)\n",
      "memory usage: 14.1+ MB\n",
      "None\n",
      "  condition  base_price  seller_id   price parent_item_id category_id  \\\n",
      "0       new        80.0   74952096    80.0   MLA568261029   MLA126406   \n",
      "1      used      2650.0   42093335  2650.0   MLA561574487    MLA10267   \n",
      "2      used        60.0  133384258    60.0   MLA568881256     MLA1227   \n",
      "3       new       580.0  143001605   580.0   Sin_Registro    MLA86345   \n",
      "4      used        30.0   96873449    30.0   MLA566354576    MLA41287   \n",
      "\n",
      "                      last_updated            id  status  initial_quantity  \\\n",
      "0        2015-09-05 20:42:58+00:00  MLA578052519  active                 1   \n",
      "1        2015-09-26 18:08:34+00:00  MLA581565358  active                 1   \n",
      "2        2015-09-09 23:57:10+00:00  MLA578780872  active                 1   \n",
      "3 2015-10-05 16:03:50.306000+00:00  MLA581877385  active                 1   \n",
      "4        2015-08-28 13:37:41+00:00  MLA576112692  active                 1   \n",
      "\n",
      "   ...  month_start  day_start  weekday_start  hour_start  year_stop  \\\n",
      "0  ...            9          5              5          20       2015   \n",
      "1  ...            9         26              5          18       2015   \n",
      "2  ...            9          9              2          23       2015   \n",
      "3  ...            9         28              0          18       2015   \n",
      "4  ...            8         24              0          22       2015   \n",
      "\n",
      "   month_stop  day_stop  weekday_stop  hour_stop  listing_duration_days  \n",
      "0          11         4             2         20                     60  \n",
      "1          11        25             2         18                     60  \n",
      "2          11         8             6         23                     60  \n",
      "3          12         4             4          1                     66  \n",
      "4          10        23             4         22                     60  \n",
      "\n",
      "[5 rows x 28 columns]\n"
     ]
    }
   ],
   "source": [
    "# Verificamos cambios\n",
    "print(df.info())\n",
    "print(df.head())"
   ]
  },
  {
   "cell_type": "code",
   "execution_count": 90,
   "metadata": {},
   "outputs": [],
   "source": [
    "# Se ha transformado la columna de fechas en múltiples características detalladas:\n",
    "# - Se han extraído el año, mes, día, día de la semana y hora para las fechas 'date_created', 'start_time' y 'stop_time'.\n",
    "# - Esto permite un análisis temporal más preciso, facilitando estudios de tendencias y patrones de publicación.\n",
    "#\n",
    "# El dataset final contiene 28 columnas con los siguientes tipos de datos:\n",
    "# - 3 columnas categóricas ('condition', 'category_id', 'status'), útiles para clasificar los productos.\n",
    "# - 1 columna de tipo datetime ('last_updated') con la fecha de última actualización del producto.\n",
    "# - 2 columnas de tipo float64 ('base_price', 'price'), que representan valores monetarios.\n",
    "# - 5 columnas de tipo int64 (ej. 'seller_id', 'initial_quantity', 'sold_quantity'), relevantes para el análisis de ventas.\n",
    "# - 15 columnas de tipo int32 derivadas de las fechas, lo que optimiza la memoria y facilita el análisis temporal.\n",
    "# - 2 columnas de tipo object ('parent_item_id', 'id'), que podrían convertirse a categóricas si es necesario.\n",
    "#\n",
    "# Adicionalmente, se ha calculado 'listing_duration_days', que indica la duración de cada publicación en días.\n",
    "# Esta variable es clave para analizar el tiempo de vida de los productos en la plataforma y su relación con las ventas.\n"
   ]
  },
  {
   "cell_type": "code",
   "execution_count": 85,
   "metadata": {},
   "outputs": [
    {
     "data": {
      "image/png": "[encoded data removed]",
      "text/plain": [
       "<Figure size 640x480 with 1 Axes>"
      ]
     },
     "metadata": {},
     "output_type": "display_data"
    }
   ],
   "source": [
    "import seaborn as sns\n",
    "import matplotlib.pyplot as plt\n",
    "\n",
    "#Distribución de la condición del producto\n",
    "sns.countplot(x=df[\"condition\"])\n",
    "plt.title(\"Distribución de la condición (Nuevo vs Usado)\")\n",
    "plt.show()\n"
   ]
  },
  {
   "cell_type": "code",
   "execution_count": 91,
   "metadata": {},
   "outputs": [],
   "source": [
    "# Guardar el DataFrame con 16 columnas en un archivo CSV\n",
    "df.to_csv(\"dataset_limpio.csv\", index=False, encoding=\"utf-8\")"
   ]
  }
 ],
 "metadata": {
  "kernelspec": {
   "display_name": "Python 3",
   "language": "python",
   "name": "python3"
  },
  "language_info": {
   "codemirror_mode": {
    "name": "ipython",
    "version": 3
   },
   "file_extension": ".py",
   "mimetype": "text/x-python",
   "name": "python",
   "nbconvert_exporter": "python",
   "pygments_lexer": "ipython3",
   "version": "3.13.2"
  }
 },
 "nbformat": 4,
 "nbformat_minor": 2
}
